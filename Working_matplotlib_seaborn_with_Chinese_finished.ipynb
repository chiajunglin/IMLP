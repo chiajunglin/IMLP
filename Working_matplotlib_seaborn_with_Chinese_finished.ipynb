{
 "cells": [
  {
   "cell_type": "code",
   "execution_count": 1,
   "metadata": {},
   "outputs": [],
   "source": [
    "import warnings\n",
    "warnings.filterwarnings('ignore')\n",
    "import matplotlib.pyplot as plt\n",
    "from matplotlib.font_manager import FontProperties"
   ]
  },
  {
   "cell_type": "markdown",
   "metadata": {},
   "source": [
    "##  尋找matplotlib中可用字體\n",
    "註：需知道中文字體的英文名稱"
   ]
  },
  {
   "cell_type": "code",
   "execution_count": 2,
   "metadata": {},
   "outputs": [
    {
     "data": {
      "text/plain": [
       "['DejaVu Serif',\n",
       " 'STIXSizeTwoSym',\n",
       " 'DejaVu Sans Mono',\n",
       " 'cmb10',\n",
       " 'STIXGeneral',\n",
       " 'cmsy10',\n",
       " 'DejaVu Serif',\n",
       " 'DejaVu Sans',\n",
       " 'STIXNonUnicode',\n",
       " 'STIXGeneral',\n",
       " 'DejaVu Sans',\n",
       " 'STIXSizeThreeSym',\n",
       " 'DejaVu Serif',\n",
       " 'DejaVu Sans Mono',\n",
       " 'STIXNonUnicode',\n",
       " 'cmr10',\n",
       " 'DejaVu Sans Display',\n",
       " 'cmex10',\n",
       " 'STIXSizeOneSym',\n",
       " 'DejaVu Sans Mono',\n",
       " 'STIXSizeOneSym',\n",
       " 'DejaVu Sans',\n",
       " 'cmmi10',\n",
       " 'cmtt10',\n",
       " 'DejaVu Sans',\n",
       " 'STIXNonUnicode',\n",
       " 'STIXSizeFourSym',\n",
       " 'STIXNonUnicode',\n",
       " 'STIXGeneral',\n",
       " 'DejaVu Sans Mono',\n",
       " 'DejaVu Serif Display',\n",
       " 'DejaVu Serif',\n",
       " 'STIXSizeTwoSym',\n",
       " 'cmss10',\n",
       " 'STIXSizeFiveSym',\n",
       " 'STIXSizeFourSym',\n",
       " 'STIXSizeThreeSym',\n",
       " 'STIXGeneral',\n",
       " 'Lucida Sans Typewriter',\n",
       " 'Papyrus',\n",
       " 'Myanmar Text',\n",
       " 'Franklin Gothic Medium',\n",
       " 'Eras Bold ITC',\n",
       " 'Rockwell Condensed',\n",
       " 'Cambria',\n",
       " 'Century Gothic',\n",
       " 'Century',\n",
       " 'Cambria',\n",
       " 'Franklin Gothic Book',\n",
       " 'Calibri',\n",
       " 'Microsoft New Tai Lue',\n",
       " 'Segoe UI',\n",
       " 'Magneto',\n",
       " 'Yu Gothic',\n",
       " 'Myanmar Text',\n",
       " 'Tahoma',\n",
       " 'Nirmala UI',\n",
       " 'Ebrima',\n",
       " 'Calibri',\n",
       " 'Leelawadee UI',\n",
       " 'Marlett',\n",
       " 'Lucida Handwriting',\n",
       " 'Bodoni MT',\n",
       " 'Century Schoolbook',\n",
       " 'Lucida Fax',\n",
       " 'Symbol',\n",
       " 'Freestyle Script',\n",
       " 'Consolas',\n",
       " 'Segoe Print',\n",
       " 'Lucida Fax',\n",
       " 'MingLiU-ExtB',\n",
       " 'Arial',\n",
       " 'Segoe UI Historic',\n",
       " 'Monotype Corsiva',\n",
       " 'Goudy Old Style',\n",
       " 'Playbill',\n",
       " 'Arial',\n",
       " 'Century Schoolbook',\n",
       " 'Arial',\n",
       " 'Bauhaus 93',\n",
       " 'Kristen ITC',\n",
       " 'Tw Cen MT Condensed Extra Bold',\n",
       " 'Californian FB',\n",
       " 'Cambria',\n",
       " 'Bodoni MT',\n",
       " 'Impact',\n",
       " 'Chiller',\n",
       " 'Book Antiqua',\n",
       " 'Consolas',\n",
       " 'Felix Titling',\n",
       " 'Yu Gothic',\n",
       " 'Stencil',\n",
       " 'Comic Sans MS',\n",
       " 'Courier New',\n",
       " 'Rockwell Condensed',\n",
       " 'Gadugi',\n",
       " 'Old English Text MT',\n",
       " 'Brush Script MT',\n",
       " 'Jokerman',\n",
       " 'Nirmala UI',\n",
       " 'Constantia',\n",
       " 'Courier New',\n",
       " 'Trebuchet MS',\n",
       " 'Franklin Gothic Demi',\n",
       " 'Curlz MT',\n",
       " 'OCR A Extended',\n",
       " 'Rockwell',\n",
       " 'Javanese Text',\n",
       " 'Garamond',\n",
       " 'Arial',\n",
       " 'Calibri',\n",
       " 'Microsoft Yi Baiti',\n",
       " 'Georgia',\n",
       " 'Calibri',\n",
       " 'Corbel',\n",
       " 'Nirmala UI',\n",
       " 'Rockwell',\n",
       " 'Wingdings',\n",
       " 'Bookman Old Style',\n",
       " 'Juice ITC',\n",
       " 'Perpetua',\n",
       " 'Corbel',\n",
       " 'Bookman Old Style',\n",
       " 'Segoe Script',\n",
       " 'Lucida Sans Typewriter',\n",
       " 'Segoe UI',\n",
       " 'Webdings',\n",
       " 'Elephant',\n",
       " 'Cooper Black',\n",
       " 'Arial',\n",
       " 'Segoe UI',\n",
       " 'Lucida Sans Typewriter',\n",
       " 'Showcard Gothic',\n",
       " 'Times New Roman',\n",
       " 'Vivaldi',\n",
       " 'Calisto MT',\n",
       " 'Franklin Gothic Medium',\n",
       " 'MS Outlook',\n",
       " 'Mongolian Baiti',\n",
       " 'Microsoft YaHei',\n",
       " 'Franklin Gothic Heavy',\n",
       " 'Berlin Sans FB',\n",
       " 'Bahnschrift',\n",
       " 'Comic Sans MS',\n",
       " 'Franklin Gothic Demi Cond',\n",
       " 'Sitka Small',\n",
       " 'Britannic Bold',\n",
       " 'Dubai',\n",
       " 'Lucida Sans',\n",
       " 'MS Gothic',\n",
       " 'Calisto MT',\n",
       " 'Corbel',\n",
       " 'Gloucester MT Extra Condensed',\n",
       " 'Calisto MT',\n",
       " 'Bell MT',\n",
       " 'Lucida Bright',\n",
       " 'Segoe UI',\n",
       " 'Bodoni MT',\n",
       " 'Franklin Gothic Book',\n",
       " 'Times New Roman',\n",
       " 'Dubai',\n",
       " 'Calibri',\n",
       " 'Baskerville Old Face',\n",
       " 'Bookman Old Style',\n",
       " 'Comic Sans MS',\n",
       " 'HoloLens MDL2 Assets',\n",
       " 'Californian FB',\n",
       " 'Bookman Old Style',\n",
       " 'Perpetua Titling MT',\n",
       " 'Palace Script MT',\n",
       " 'SimSun',\n",
       " 'Palatino Linotype',\n",
       " 'Dubai',\n",
       " 'Segoe Print',\n",
       " 'Microsoft JhengHei',\n",
       " 'Informal Roman',\n",
       " 'Agency FB',\n",
       " 'Leelawadee UI',\n",
       " 'Consolas',\n",
       " 'Tw Cen MT Condensed',\n",
       " 'Constantia',\n",
       " 'Constantia',\n",
       " 'Mistral',\n",
       " 'Corbel',\n",
       " 'Courier New',\n",
       " 'Microsoft New Tai Lue',\n",
       " 'Onyx',\n",
       " 'Perpetua',\n",
       " 'Ebrima',\n",
       " 'Goudy Old Style',\n",
       " 'Bodoni MT',\n",
       " 'Microsoft Uighur',\n",
       " 'Microsoft JhengHei',\n",
       " 'Segoe UI',\n",
       " 'Arial Rounded MT Bold',\n",
       " 'Gill Sans MT',\n",
       " 'DFKai-SB',\n",
       " 'Franklin Gothic Medium Cond',\n",
       " 'Microsoft Himalaya',\n",
       " 'Century Schoolbook',\n",
       " 'High Tower Text',\n",
       " 'Leelawadee UI',\n",
       " 'Berlin Sans FB Demi',\n",
       " 'Garamond',\n",
       " 'Tw Cen MT',\n",
       " 'Segoe UI Symbol',\n",
       " 'Rockwell Extra Bold',\n",
       " 'Constantia',\n",
       " 'Bodoni MT',\n",
       " 'Rockwell',\n",
       " 'Microsoft Uighur',\n",
       " 'Palatino Linotype',\n",
       " 'Consolas',\n",
       " 'Verdana',\n",
       " 'Gill Sans Ultra Bold',\n",
       " 'Gill Sans MT',\n",
       " 'Berlin Sans FB',\n",
       " 'Book Antiqua',\n",
       " 'Century Gothic',\n",
       " 'Matura MT Script Capitals',\n",
       " 'Gill Sans MT',\n",
       " 'Microsoft Sans Serif',\n",
       " 'Century Gothic',\n",
       " 'Rockwell',\n",
       " 'Corbel',\n",
       " 'Lucida Fax',\n",
       " 'Kievit Offc Pro',\n",
       " 'Maiandra GD',\n",
       " 'Bradley Hand ITC',\n",
       " 'Trebuchet MS',\n",
       " 'Verdana',\n",
       " 'Sylfaen',\n",
       " 'Snap ITC',\n",
       " 'Colonna MT',\n",
       " 'Arial',\n",
       " 'Forte',\n",
       " 'Gill Sans MT Condensed',\n",
       " 'Segoe UI',\n",
       " 'Franklin Gothic Heavy',\n",
       " 'Verdana',\n",
       " 'SimSun-ExtB',\n",
       " 'Courier New',\n",
       " 'Century Schoolbook',\n",
       " 'MingLiU',\n",
       " 'Lucida Sans Typewriter',\n",
       " 'Vladimir Script',\n",
       " 'Times New Roman',\n",
       " 'Ink Free',\n",
       " 'Malgun Gothic',\n",
       " 'Leelawadee',\n",
       " 'Corbel',\n",
       " 'Lucida Bright',\n",
       " 'Ravie',\n",
       " 'MV Boli',\n",
       " 'Niagara Engraved',\n",
       " 'Segoe MDL2 Assets',\n",
       " 'MS Reference Sans Serif',\n",
       " 'Perpetua',\n",
       " 'Goudy Stout',\n",
       " 'Copperplate Gothic Bold',\n",
       " 'Candara',\n",
       " 'Lucida Sans Unicode',\n",
       " 'Gabriola',\n",
       " 'MT Extra',\n",
       " 'Dubai',\n",
       " 'Bodoni MT',\n",
       " 'Tempus Sans ITC',\n",
       " 'Arial',\n",
       " 'Candara',\n",
       " 'Garamond',\n",
       " 'Segoe UI',\n",
       " 'Wingdings 3',\n",
       " 'Californian FB',\n",
       " 'Blackadder ITC',\n",
       " 'Segoe UI',\n",
       " 'Lucida Bright',\n",
       " 'Tw Cen MT',\n",
       " 'Book Antiqua',\n",
       " 'Agency FB',\n",
       " 'Poor Richard',\n",
       " 'Wingdings 2',\n",
       " 'Leelawadee',\n",
       " 'Imprint MT Shadow',\n",
       " 'Sitka Small',\n",
       " 'Microsoft Tai Le',\n",
       " 'Georgia',\n",
       " 'High Tower Text',\n",
       " 'Sitka Small',\n",
       " 'Harrington',\n",
       " 'Trebuchet MS',\n",
       " 'Perpetua Titling MT',\n",
       " 'Georgia',\n",
       " 'Gadugi',\n",
       " 'Segoe UI',\n",
       " 'Pristina',\n",
       " 'Georgia',\n",
       " 'Yu Gothic',\n",
       " 'Broadway',\n",
       " 'Algerian',\n",
       " 'Bodoni MT',\n",
       " 'Century Gothic',\n",
       " 'TeamViewer15',\n",
       " 'Lucida Bright',\n",
       " 'Malgun Gothic',\n",
       " 'Haettenschweiler',\n",
       " 'Modern No. 20',\n",
       " 'Lucida Console',\n",
       " 'Goudy Old Style',\n",
       " 'Microsoft YaHei',\n",
       " 'Verdana',\n",
       " 'Sitka Small',\n",
       " 'Microsoft YaHei',\n",
       " 'Bell MT',\n",
       " 'Perpetua',\n",
       " 'Lucida Sans',\n",
       " 'Centaur',\n",
       " 'Gill Sans MT Ext Condensed Bold',\n",
       " 'Cambria',\n",
       " 'Book Antiqua',\n",
       " 'Microsoft PhagsPa',\n",
       " 'Gigi',\n",
       " 'MS Reference Specialty',\n",
       " 'Kunstler Script',\n",
       " 'Gill Sans Ultra Bold Condensed',\n",
       " 'Bodoni MT',\n",
       " 'Palatino Linotype',\n",
       " 'Engravers MT',\n",
       " 'Bodoni MT',\n",
       " 'Microsoft JhengHei',\n",
       " 'Edwardian Script ITC',\n",
       " 'Segoe UI',\n",
       " 'Niagara Solid',\n",
       " 'Segoe Script',\n",
       " 'Eras Demi ITC',\n",
       " 'Microsoft Tai Le',\n",
       " 'Rage Italic',\n",
       " 'Times New Roman',\n",
       " 'Calisto MT',\n",
       " 'Tw Cen MT',\n",
       " 'Candara',\n",
       " 'Footlight MT Light',\n",
       " 'Wide Latin',\n",
       " 'Copperplate Gothic Light',\n",
       " 'Calibri',\n",
       " 'Comic Sans MS',\n",
       " 'Trebuchet MS',\n",
       " 'Lucida Fax',\n",
       " 'Parchment',\n",
       " 'Yu Gothic',\n",
       " 'Script MT Bold',\n",
       " 'Eras Medium ITC',\n",
       " 'Palatino Linotype',\n",
       " 'Bodoni MT',\n",
       " 'Gill Sans MT',\n",
       " 'Arial',\n",
       " 'Microsoft PhagsPa',\n",
       " 'Franklin Gothic Demi',\n",
       " 'Segoe UI',\n",
       " 'Viner Hand ITC',\n",
       " 'Harlow Solid Italic',\n",
       " 'Bell MT',\n",
       " 'Tahoma',\n",
       " 'French Script MT',\n",
       " 'Bookshelf Symbol 7',\n",
       " 'Bodoni MT',\n",
       " 'Candara',\n",
       " 'Bernard MT Condensed',\n",
       " 'Tw Cen MT',\n",
       " 'Segoe UI Emoji',\n",
       " 'Candara',\n",
       " 'Candara',\n",
       " 'Arial',\n",
       " 'Eras Light ITC',\n",
       " 'Castellar',\n",
       " 'Lucida Sans',\n",
       " 'Segoe UI',\n",
       " 'Tw Cen MT Condensed',\n",
       " 'Lucida Calligraphy',\n",
       " 'Lucida Sans',\n",
       " 'Malgun Gothic',\n",
       " 'Elephant']"
      ]
     },
     "execution_count": 2,
     "metadata": {},
     "output_type": "execute_result"
    }
   ],
   "source": [
    "import matplotlib\n",
    "[f.name for f in matplotlib.font_manager.fontManager.ttflist]"
   ]
  },
  {
   "cell_type": "markdown",
   "metadata": {
    "collapsed": true
   },
   "source": [
    "## 測試中文字體Notes:\n",
    "### Mac可用字體：SimHei\n",
    "### Windows 7可用字體：Microsoft YaHei\n",
    "### Windows 10 可用字體：Microsoft JhengHei、DFKai-SB"
   ]
  },
  {
   "cell_type": "markdown",
   "metadata": {},
   "source": [
    "# 方法一：更改 plt.rcParams['font.sans-serif'] 設定\n",
    "## Matplotlib example"
   ]
  },
  {
   "cell_type": "code",
   "execution_count": 3,
   "metadata": {},
   "outputs": [
    {
     "data": {
      "image/png": "[encoded data removed]",
      "text/plain": [
       "<Figure size 432x288 with 1 Axes>"
      ]
     },
     "metadata": {
      "needs_background": "light"
     },
     "output_type": "display_data"
    }
   ],
   "source": [
    "import matplotlib.pyplot as plt\n",
    "from matplotlib.font_manager import FontProperties\n",
    "plt.rcParams['font.sans-serif'] = ['DFKai-SB'] \n",
    "\n",
    "plt.plot((1,2,3),(4,3,-1))\n",
    "plt.title(\"聲量圖\")\n",
    "plt.ylabel(\"文章數量\")\n",
    "plt.xlabel(\"品牌名稱\") \n",
    "plt.show()"
   ]
  },
  {
   "cell_type": "markdown",
   "metadata": {},
   "source": [
    "## Seaborn example"
   ]
  },
  {
   "cell_type": "code",
   "execution_count": 4,
   "metadata": {},
   "outputs": [
    {
     "data": {
      "text/plain": [
       "<AxesSubplot:>"
      ]
     },
     "execution_count": 4,
     "metadata": {},
     "output_type": "execute_result"
    },
    {
     "data": {
      "image/png": "[encoded data removed]",
      "text/plain": [
       "<Figure size 432x288 with 1 Axes>"
      ]
     },
     "metadata": {},
     "output_type": "display_data"
    }
   ],
   "source": [
    "#from matplotlib.font_manager import FontProperties\n",
    "import seaborn as sns\n",
    "sns.set(font=['sans-serif'])\n",
    "sns.set_style(\"whitegrid\",{\"font.sans-serif\":['Microsoft JhengHei']})\n",
    "cities_counter = [('好棒', 285), ('給我', 225), ('不要', 163), ('細柔', 136), ('吃飯', 130), ('小小', 124), ('深圳', 88), ('温州', 67), ('小知', 66), ('大之', 45)]\n",
    "sns.set_color_codes(\"pastel\")\n",
    "sns.barplot(x=[k for k, _ in cities_counter[:10]], y=[v for _, v in cities_counter[:10]])"
   ]
  },
  {
   "cell_type": "markdown",
   "metadata": {},
   "source": [
    "# 方法二：更改 plt.rcParams['font.family'] 設定"
   ]
  },
  {
   "cell_type": "code",
   "execution_count": 5,
   "metadata": {},
   "outputs": [
    {
     "data": {
      "image/png": "[encoded data removed]",
      "text/plain": [
       "<Figure size 432x288 with 1 Axes>"
      ]
     },
     "metadata": {},
     "output_type": "display_data"
    }
   ],
   "source": [
    "import matplotlib.pyplot as plt\n",
    "plt.style.use('ggplot')\n",
    "\n",
    "fig = plt.figure(figsize=(6,4))\n",
    "x = [1,2,3,4,5]\n",
    "y = [123,432,823,192,12]\n",
    "\n",
    "plt.rcParams['font.family']='DFKai-SB' #使用中文字體（黑體）\n",
    "\n",
    "plt.bar(x,y,align='center')\n",
    "plt.title('中文標題') #標題名稱\n",
    "plt.xlabel('X軸') #X軸名稱\n",
    "plt.ylabel('Y軸') #Y軸名稱\n",
    "plt.xticks(x, ['刻度A','刻度B','刻度C','刻度D','刻度E']) #X軸刻度名稱\n",
    "\n",
    "plt.show()"
   ]
  },
  {
   "cell_type": "markdown",
   "metadata": {},
   "source": [
    "# 方法三：每次作圖使用特定字體"
   ]
  },
  {
   "cell_type": "code",
   "execution_count": 6,
   "metadata": {},
   "outputs": [
    {
     "name": "stderr",
     "output_type": "stream",
     "text": [
      "findfont: Font family ['SetoFont'] not found. Falling back to DejaVu Sans.\n"
     ]
    },
    {
     "data": {
      "image/png": "[encoded data removed]",
      "text/plain": [
       "<Figure size 432x288 with 1 Axes>"
      ]
     },
     "metadata": {},
     "output_type": "display_data"
    }
   ],
   "source": [
    "font1 = {'fontname':'SetoFont'}\n",
    "font2 = {'fontname':'SimSun'}\n",
    "font3 = {'fontname':'DFKai-SB'}\n",
    "\n",
    "plt.bar(x,y,align='center')\n",
    "plt.title('瀨戶字體標題',**font1, fontsize=18) #標題名稱\n",
    "plt.xlabel('新宋字體X軸',**font2, fontsize=18) #X軸名稱\n",
    "plt.ylabel('黑體Y軸',**font3, fontsize=18) #Y軸名稱\n",
    "plt.show()"
   ]
  },
  {
   "cell_type": "markdown",
   "metadata": {},
   "source": [
    "# 方法四、自訂字體型式\n",
    "### 下載`.ttf`字體檔，直接指定字體路徑"
   ]
  },
  {
   "cell_type": "code",
   "execution_count": 7,
   "metadata": {},
   "outputs": [
    {
     "data": {
      "image/png": "[encoded data removed]",
      "text/plain": [
       "<Figure size 432x288 with 1 Axes>"
      ]
     },
     "metadata": {},
     "output_type": "display_data"
    }
   ],
   "source": [
    "from matplotlib.font_manager import FontProperties\n",
    "font = FontProperties(fname='data\\微軟正黑體.ttf')\n",
    "\n",
    "plt.bar((1,2,3),(4,3,-1),align='center')\n",
    "plt.title('微軟正黑體標題',fontproperties=font, fontsize=18) #標題名稱\n",
    "plt.xlabel('微軟正黑體X軸',fontproperties=font, fontsize=18) #X軸名稱\n",
    "plt.ylabel('微軟正黑體Y軸',fontproperties=font, fontsize=18) #Y軸名稱\n",
    "plt.show()"
   ]
  },
  {
   "cell_type": "code",
   "execution_count": null,
   "metadata": {},
   "outputs": [],
   "source": []
  },
  {
   "cell_type": "code",
   "execution_count": null,
   "metadata": {},
   "outputs": [],
   "source": []
  }
 ],
 "metadata": {
  "anaconda-cloud": {},
  "kernelspec": {
   "display_name": "Python 3 (ipykernel)",
   "language": "python",
   "name": "python3"
  },
  "language_info": {
   "codemirror_mode": {
    "name": "ipython",
    "version": 3
   },
   "file_extension": ".py",
   "mimetype": "text/x-python",
   "name": "python",
   "nbconvert_exporter": "python",
   "pygments_lexer": "ipython3",
   "version": "3.9.12"
  }
 },
 "nbformat": 4,
 "nbformat_minor": 1
}
